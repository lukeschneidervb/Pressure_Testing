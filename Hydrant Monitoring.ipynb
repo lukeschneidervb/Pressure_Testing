{
 "cells": [
  {
   "cell_type": "code",
   "execution_count": null,
   "id": "7f2746da",
   "metadata": {},
   "outputs": [],
   "source": [
    "import pandas as pd\n",
    "import numpy as np"
   ]
  },
  {
   "cell_type": "code",
   "execution_count": null,
   "id": "b287e153",
   "metadata": {},
   "outputs": [],
   "source": [
    "pumps = pd.read_csv(r\"C:\\Users\\lschneider\\Downloads\\HydrantFlush09022025(KML Pumps OnOff).csv\")"
   ]
  },
  {
   "cell_type": "code",
   "execution_count": null,
   "id": "77b871e1",
   "metadata": {},
   "outputs": [],
   "source": [
    "# Read in Data\n",
    "atl_day1 = pd.read_csv(\"Norfolk ATL-002 Day 1 Aug262025(in) (1).csv\")\n",
    "atl_day2 = pd.read_csv(r\"C:\\Users\\lschneider\\Downloads\\Norfolk Atlanta-002 Day 2 Aug_27_2025.CSV\")\n",
    "atl_day3 = pd.read_csv(r\"C:\\Users\\lschneider\\Downloads\\Norfolk Day 4 Irv004 Atl002 Aug292025.CSV\")"
   ]
  },
  {
   "cell_type": "code",
   "execution_count": null,
   "id": "310a22a8",
   "metadata": {},
   "outputs": [],
   "source": [
    "irv002_day1_3 = pd.read_excel(r\"C:\\Users\\lschneider\\Downloads\\Norfolk IRV-002 Day 1-3 08_25-28_2025.xlsx\")\n",
    "irv004_day1_3 = pd.read_excel(r\"C:\\Users\\lschneider\\Downloads\\Norf IRV-004 Day 1-3 08_25-28_2025.xlsx\", skiprows = 3)\n",
    "irv004_day4 = pd.read_excel(r\"C:\\Users\\lschneider\\Downloads\\Norf IRV-004 Day 4  08_29_2025.xlsx\")"
   ]
  },
  {
   "cell_type": "code",
   "execution_count": null,
   "id": "a24d93ba",
   "metadata": {},
   "outputs": [],
   "source": [
    "norf1 = pd.read_csv(r\"C:\\Users\\lschneider\\Downloads\\Summary Data - Norfolk 1 (1)\\Norfolk 1\\1000022082 Summary Pressure 01.csv\")\n",
    "norf2 = pd.read_csv(r\"C:\\Users\\lschneider\\Downloads\\Summary Data - Norfolk 2\\Norfolk 2\\1000022083 Summary Pressure 01.csv\")\n",
    "norf3 = pd.read_csv(r\"C:\\Users\\lschneider\\Downloads\\Summary Data - Norfolk 3\\Norfolk 3\\1000022084 Summary Pressure 01.csv\")\n",
    "norf4 = pd.read_csv(r\"C:\\Users\\lschneider\\Downloads\\Summary Data - Norfolk 4\\Norfolk 4\\1000022085 Summary Pressure 01.csv\")"
   ]
  },
  {
   "cell_type": "code",
   "execution_count": null,
   "id": "4817d69f",
   "metadata": {},
   "outputs": [],
   "source": [
    "pumps['timestamp'] = pd.to_datetime(pumps['timestamp'])\n",
    "pumps.set_index('timestamp', inplace=True)"
   ]
  },
  {
   "cell_type": "code",
   "execution_count": null,
   "id": "4101cc12",
   "metadata": {},
   "outputs": [],
   "source": [
    "# Get date and time right for the Norfolk ones\n",
    "norf1['Date/Time (EST5EDT)'] = pd.to_datetime(norf1['Date/Time (EST5EDT)'])\n",
    "norf1.set_index('Date/Time (EST5EDT)', inplace=True)\n",
    "\n",
    "norf2['Date/Time (EST5EDT)'] = pd.to_datetime(norf2['Date/Time (EST5EDT)'])\n",
    "norf2.set_index('Date/Time (EST5EDT)', inplace=True)\n",
    "\n",
    "norf3['Date/Time (EST5EDT)'] = pd.to_datetime(norf3['Date/Time (EST5EDT)'])\n",
    "norf3.set_index('Date/Time (EST5EDT)', inplace=True)\n",
    "\n",
    "norf4['Date/Time (EST5EDT)'] = pd.to_datetime(norf4['Date/Time (EST5EDT)'])\n",
    "norf4.set_index('Date/Time (EST5EDT)', inplace=True)"
   ]
  },
  {
   "cell_type": "code",
   "execution_count": null,
   "id": "f6690390",
   "metadata": {},
   "outputs": [],
   "source": [
    "norf1 = norf1.add_suffix('_norf1')\n",
    "norf2 = norf2.add_suffix('_norf2')\n",
    "norf3 = norf3.add_suffix('_norf3')\n",
    "norf4 = norf4.add_suffix('_norf4')"
   ]
  },
  {
   "cell_type": "code",
   "execution_count": null,
   "id": "b7addf49",
   "metadata": {},
   "outputs": [],
   "source": [
    "#  ATL002  - Make sure time col is date time and set as index, interpolate to sample @ 1HZ\n",
    "day = 3\n",
    "if day == 1:\n",
    "    atl_day1['TimeStamp'] = pd.to_datetime(atl_day1['TimeStamp'])\n",
    "    atl_day1.set_index('TimeStamp', inplace=True)\n",
    "    # Make p cols numeric\n",
    "    cols_to_convert = ['ATL-002 Pressure Min', \n",
    "                    'ATL-002 Pressure Avg', \n",
    "                    'ATL-002 Pressure Max']\n",
    "    for col in cols_to_convert:\n",
    "        atl_day1[col] = pd.to_numeric(atl_day1[col], errors='coerce')\n",
    "    # Resample Atlanta data to be 1 HZ\n",
    "    atl_data_resampled = atl_day1.resample('1s').interpolate(method=\"linear\")\n",
    "\n",
    "elif day == 2:\n",
    "    atl_day2['TimeStamp'] = pd.to_datetime(atl_day2['TimeStamp'])\n",
    "    atl_day2.set_index('TimeStamp', inplace=True)\n",
    "    atl_day2['ATL-002 Pressure Avg'] = pd.to_numeric(atl_day2['ATL-002 Pressure Avg'], errors='coerce')\n",
    "    # Resample Atlanta data to be 1 HZ\n",
    "    atl_data_resampled = atl_day2.resample('1s').interpolate(method=\"linear\")\n",
    "\n",
    "elif day == 3:\n",
    "    atl_day3 = atl_day3.iloc[:, 0:2] # remove last col\n",
    "    atl_day3['TimeStamp'] = pd.to_datetime(atl_day3['TimeStamp'])\n",
    "    atl_day3.set_index('TimeStamp', inplace=True)\n",
    "    atl_day3['ATL-002 Pressure Avg'] = pd.to_numeric(atl_day3['ATL-002 Pressure Avg'], errors='coerce')\n",
    "    # Resample Atlanta data to be 1 HZ\n",
    "    atl_data_resampled = atl_day3.resample('1s').interpolate(method=\"linear\")"
   ]
  },
  {
   "cell_type": "code",
   "execution_count": null,
   "id": "36126bbb",
   "metadata": {},
   "outputs": [],
   "source": [
    "# IRV002 day1-3- Make sure time col is date time and set as index\n",
    "irv002_day1_3['DateTime'] = pd.to_datetime(irv002_day1_3['DateTime'])\n",
    "irv002_day1_3.set_index('DateTime', inplace=True)\n",
    "\n",
    "# Make pressure col numeric and rename\n",
    "irv002_day1_3['Pressure (psi)'] = pd.to_numeric(\n",
    "    irv002_day1_3['Pressure (psi)'], errors=\"coerce\"\n",
    ")\n",
    "\n",
    "# Rename the column\n",
    "irv002_day1_3.rename(columns={'Pressure (psi)': 'IRV002 Pressure (psi)'}, inplace=True)"
   ]
  },
  {
   "cell_type": "code",
   "execution_count": null,
   "id": "5bb14c5b",
   "metadata": {},
   "outputs": [],
   "source": [
    "# IRV004 day1-3-  Make sure time col is date time and set as index\n",
    "irv004_day1_3['DateTime'] = pd.to_datetime(irv004_day1_3['DateTime'])\n",
    "irv004_day1_3.set_index('DateTime', inplace=True)\n",
    "\n",
    "# Rename the column\n",
    "irv004_day1_3.rename(columns={'Pressure (psi)': 'IRV004 Pressure (psi)'}, inplace=True)"
   ]
  },
  {
   "cell_type": "code",
   "execution_count": null,
   "id": "590f041e",
   "metadata": {},
   "outputs": [],
   "source": [
    "# IRV004 day4- Make sure time col is date time and set as index, get rid of battery col\n",
    "irv004_day4 = irv004_day4.iloc[:, 0:2]\n",
    "irv004_day4['DateTime'] = pd.to_datetime(irv004_day4['DateTime'])\n",
    "irv004_day4.set_index('DateTime', inplace=True)\n",
    "irv004_day4.rename(columns={'Pressure (psi)': 'IRV004 Pressure (psi)'}, inplace=True)"
   ]
  },
  {
   "cell_type": "code",
   "execution_count": 22,
   "id": "7f0a7a4b",
   "metadata": {},
   "outputs": [
    {
     "data": {
      "text/html": [
       "<div>\n",
       "<style scoped>\n",
       "    .dataframe tbody tr th:only-of-type {\n",
       "        vertical-align: middle;\n",
       "    }\n",
       "\n",
       "    .dataframe tbody tr th {\n",
       "        vertical-align: top;\n",
       "    }\n",
       "\n",
       "    .dataframe thead th {\n",
       "        text-align: right;\n",
       "    }\n",
       "</style>\n",
       "<table border=\"1\" class=\"dataframe\">\n",
       "  <thead>\n",
       "    <tr style=\"text-align: right;\">\n",
       "      <th></th>\n",
       "      <th>TimeStamp</th>\n",
       "    </tr>\n",
       "  </thead>\n",
       "  <tbody>\n",
       "    <tr>\n",
       "      <th>0</th>\n",
       "      <td>2025-08-28 08:00:00</td>\n",
       "    </tr>\n",
       "    <tr>\n",
       "      <th>1</th>\n",
       "      <td>2025-08-28 08:00:01</td>\n",
       "    </tr>\n",
       "    <tr>\n",
       "      <th>2</th>\n",
       "      <td>2025-08-28 08:00:02</td>\n",
       "    </tr>\n",
       "    <tr>\n",
       "      <th>3</th>\n",
       "      <td>2025-08-28 08:00:03</td>\n",
       "    </tr>\n",
       "    <tr>\n",
       "      <th>4</th>\n",
       "      <td>2025-08-28 08:00:04</td>\n",
       "    </tr>\n",
       "    <tr>\n",
       "      <th>...</th>\n",
       "      <td>...</td>\n",
       "    </tr>\n",
       "    <tr>\n",
       "      <th>93596</th>\n",
       "      <td>2025-08-29 09:59:56</td>\n",
       "    </tr>\n",
       "    <tr>\n",
       "      <th>93597</th>\n",
       "      <td>2025-08-29 09:59:57</td>\n",
       "    </tr>\n",
       "    <tr>\n",
       "      <th>93598</th>\n",
       "      <td>2025-08-29 09:59:58</td>\n",
       "    </tr>\n",
       "    <tr>\n",
       "      <th>93599</th>\n",
       "      <td>2025-08-29 09:59:59</td>\n",
       "    </tr>\n",
       "    <tr>\n",
       "      <th>93600</th>\n",
       "      <td>2025-08-29 10:00:00</td>\n",
       "    </tr>\n",
       "  </tbody>\n",
       "</table>\n",
       "<p>93601 rows × 1 columns</p>\n",
       "</div>"
      ],
      "text/plain": [
       "                TimeStamp\n",
       "0     2025-08-28 08:00:00\n",
       "1     2025-08-28 08:00:01\n",
       "2     2025-08-28 08:00:02\n",
       "3     2025-08-28 08:00:03\n",
       "4     2025-08-28 08:00:04\n",
       "...                   ...\n",
       "93596 2025-08-29 09:59:56\n",
       "93597 2025-08-29 09:59:57\n",
       "93598 2025-08-29 09:59:58\n",
       "93599 2025-08-29 09:59:59\n",
       "93600 2025-08-29 10:00:00\n",
       "\n",
       "[93601 rows x 1 columns]"
      ]
     },
     "execution_count": 22,
     "metadata": {},
     "output_type": "execute_result"
    }
   ],
   "source": [
    "# Define start and end\n",
    "start = \"2025-08-28 8:00:00\"\n",
    "end = \"2025-08-29 10:00:00\"  \n",
    "\n",
    "# Create time series with 1 second frequency\n",
    "dt_index = pd.date_range(start=start, \n",
    "                         end=end, \n",
    "                         freq=\"1s\")\n",
    "\n",
    "# Make DataFrame with single column\n",
    "df = pd.DataFrame({\"TimeStamp\": dt_index})\n",
    "df"
   ]
  },
  {
   "cell_type": "code",
   "execution_count": 23,
   "id": "0663a8c2",
   "metadata": {},
   "outputs": [],
   "source": [
    "data_merged = df.merge(pumps, left_on='TimeStamp', right_on='timestamp', how='left')"
   ]
  },
  {
   "cell_type": "code",
   "execution_count": null,
   "id": "f37aebd6",
   "metadata": {},
   "outputs": [],
   "source": [
    "# Merge data w/ time step (will be Null if no data at given time)\n",
    "#data_merged = df.merge(atl_data_resampled, on = \"TimeStamp\", how = \"left\")\n",
    "#data_merged = data_merged.merge(irv004_day4, left_on='TimeStamp', right_on = \"DateTime\", how = 'left')\n",
    "#data_merged = data_merged.merge(irv002_day1_3, left_on='TimeStamp', right_on = \"DateTime\", how = 'left')\n",
    "#data_merged = data_merged.merge(irv004_day1_3, left_on='TimeStamp', right_on='DateTime', how='left')\n",
    "data_merged = df.merge(norf1, left_on = 'TimeStamp', right_on='Date/Time (EST5EDT)', how = 'left')\n",
    "data_merged = data_merged.merge(norf2, left_on = 'TimeStamp', right_on='Date/Time (EST5EDT)', how = 'left')\n",
    "data_merged = data_merged.merge(norf3, left_on = 'TimeStamp', right_on='Date/Time (EST5EDT)', how = 'left')\n",
    "data_merged = data_merged.merge(norf4, left_on = 'TimeStamp', right_on='Date/Time (EST5EDT)', how = 'left')"
   ]
  },
  {
   "cell_type": "code",
   "execution_count": null,
   "id": "c9d4a6b8",
   "metadata": {},
   "outputs": [],
   "source": [
    "#data_merged = data_merged.drop(columns=[col for col in data_merged.columns if col.startswith(\"Timestamp_n\")])"
   ]
  },
  {
   "cell_type": "code",
   "execution_count": 24,
   "id": "d2e04b2a",
   "metadata": {},
   "outputs": [],
   "source": [
    "# Output to CSV\n",
    "data_merged.to_excel(\"day4_data_pumps.xlsx\")"
   ]
  }
 ],
 "metadata": {
  "kernelspec": {
   "display_name": "Python 3",
   "language": "python",
   "name": "python3"
  },
  "language_info": {
   "codemirror_mode": {
    "name": "ipython",
    "version": 3
   },
   "file_extension": ".py",
   "mimetype": "text/x-python",
   "name": "python",
   "nbconvert_exporter": "python",
   "pygments_lexer": "ipython3",
   "version": "3.13.5"
  }
 },
 "nbformat": 4,
 "nbformat_minor": 5
}
